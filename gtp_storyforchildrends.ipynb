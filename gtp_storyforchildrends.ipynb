{
 "cells": [
  {
   "cell_type": "code",
   "execution_count": 91,
   "metadata": {},
   "outputs": [],
   "source": [
    "import torch\n",
    "import torch.nn as nn\n",
    "from torch.nn import functional as F"
   ]
  },
  {
   "cell_type": "code",
   "execution_count": 92,
   "metadata": {},
   "outputs": [],
   "source": [
    "\n",
    "# hyperparameters\n",
    "batch_size = 32 # how many independent sequences will we process in parallel?\n",
    "block_size = 64 # what is the maximum context length for predictions?\n",
    "max_iters = 5000\n",
    "eval_interval = 100\n",
    "learning_rate = 1e-3\n",
    "device = 'cuda' if torch.cuda.is_available() else 'cpu'\n",
    "eval_iters = 200\n",
    "n_embd = 256\n",
    "n_head = 4\n",
    "n_layer = 6\n",
    "dropout = 0.0"
   ]
  },
  {
   "cell_type": "code",
   "execution_count": 117,
   "metadata": {},
   "outputs": [
    {
     "name": "stdout",
     "output_type": "stream",
     "text": [
      "length of dataset in characters:  1022784\n",
      "The Happy Prince.\n",
      "HIGH above the city, on a tall column, stood t\n"
     ]
    }
   ],
   "source": [
    "file_path = \"/home/max/Bureau/Python/IA_CG/NLP_projet_2/cleaned_merged_fairy_tales_without_eos.txt\"\n",
    "\n",
    "# Ouvrir et lire le fichier\n",
    "with open(file_path, 'r', encoding='utf-8') as file:\n",
    "    data = file.read()\n",
    "\n",
    "# Calculer la longueur de 10% du texte\n",
    "ten_percent_length = int(len(data) * 0.05)\n",
    "\n",
    "# Extraire 10% du texte\n",
    "text = data[:ten_percent_length]\n",
    "print(\"length of dataset in characters: \", len(text))\n",
    "\n",
    "print(text[:64])\n",
    "\n"
   ]
  },
  {
   "cell_type": "code",
   "execution_count": 104,
   "metadata": {},
   "outputs": [
    {
     "name": "stdout",
     "output_type": "stream",
     "text": [
      "character set used in model training :  ['\\n', ' ', '!', \"'\", '(', ')', '*', ',', '-', '.', '/', '0', '1', '2', '3', '4', '5', '6', '7', '8', '9', ':', ';', '?', 'A', 'B', 'C', 'D', 'E', 'F', 'G', 'H', 'I', 'J', 'K', 'L', 'M', 'N', 'O', 'P', 'Q', 'R', 'S', 'T', 'U', 'V', 'W', 'X', 'Y', 'Z', '[', ']', 'a', 'b', 'c', 'd', 'e', 'f', 'g', 'h', 'i', 'j', 'k', 'l', 'm', 'n', 'o', 'p', 'q', 'r', 's', 't', 'u', 'v', 'w', 'x', 'y', 'z', '—', '‘', '’', '“', '”']\n",
      "The size of the vocab 83\n"
     ]
    }
   ],
   "source": [
    "# here are all the unique characters that occur in this text\n",
    "chars = sorted(list(set(text)))\n",
    "vocab_size = len(chars)\n",
    "print(\"character set used in model training : \",chars)\n",
    "print(\"The size of the vocab\",vocab_size)"
   ]
  },
  {
   "cell_type": "code",
   "execution_count": 106,
   "metadata": {},
   "outputs": [
    {
     "name": "stdout",
     "output_type": "stream",
     "text": [
      "[31, 32, 30, 31, 1, 52, 53, 66, 73, 56, 1, 71, 59, 56, 1, 54, 60, 71, 76, 7, 1, 66, 65, 1, 52, 1, 71, 52, 63, 63, 1, 54, 66, 63, 72, 64, 65, 7, 1, 70, 71, 66, 66, 55, 1, 71, 59, 56, 1, 70, 71, 52, 71, 72, 56, 1, 66, 57, 1, 71, 59, 56, 1, 31, 52, 67, 67, 76, 1, 39, 69, 60, 65, 54, 56, 9]\n",
      "\n",
      "\n"
     ]
    }
   ],
   "source": [
    "# create a mapping from characters to integers\n",
    "stoi = { ch:i for i,ch in enumerate(chars) }\n",
    "itos = { i:ch for i,ch in enumerate(chars) }\n",
    "encode = lambda s: [stoi[c] for c in s] # encoder: take a string, output a list of integers\n",
    "decode = lambda l: ''.join([itos[i] for i in l]) # decoder: take a list of integers, output a string\n",
    "\n",
    "print(encode(\"HIGH above the city, on a tall column, stood the statue of the Happy Prince.\"))\n",
    "print(decode([0]))"
   ]
  },
  {
   "cell_type": "code",
   "execution_count": 96,
   "metadata": {},
   "outputs": [
    {
     "name": "stdout",
     "output_type": "stream",
     "text": [
      "torch.Size([1022784]) torch.int64\n",
      "tensor([43, 59, 56,  1, 31, 52, 67, 67, 76,  1, 39, 69, 60, 65, 54, 56,  9,  0,\n",
      "        31, 32, 30, 31,  1, 52, 53, 66, 73, 56,  1, 71, 59, 56,  1, 54, 60, 71,\n",
      "        76,  7,  1, 66, 65,  1, 52,  1, 71, 52, 63, 63,  1, 54, 66, 63, 72, 64,\n",
      "        65,  7,  1, 70, 71, 66, 66, 55,  1, 71, 59, 56,  1, 70, 71, 52, 71, 72,\n",
      "        56,  1, 66, 57,  1, 71, 59, 56,  1, 31, 52, 67, 67, 76,  1, 39, 69, 60,\n",
      "        65, 54, 56,  9,  1,  1, 31, 56,  1, 74, 52, 70,  1, 58, 60, 63, 55, 56,\n",
      "        55,  1, 52, 63, 63,  1, 66, 73, 56, 69,  1, 74, 60, 71, 59,  1, 71, 59,\n",
      "        60, 65,  1, 63, 56, 52, 73, 56, 70,  1, 66, 57,  1, 57, 60, 65, 56,  1,\n",
      "        58, 66, 63, 55,  7,  1, 57, 66, 69,  1, 56, 76, 56, 70,  1, 59, 56,  1,\n",
      "        59, 52, 55,  1, 71, 74, 66,  1, 53, 69, 60, 58, 59, 71,  1, 70, 52, 67,\n",
      "        67, 59, 60, 69, 56, 70,  7,  1, 52, 65, 55,  1, 52,  1, 63, 52, 69, 58,\n",
      "        56,  1, 69, 56, 55,  1, 69, 72, 53, 76,  1, 58, 63, 66, 74, 56, 55,  1,\n",
      "        66, 65,  1, 59, 60, 70,  1, 70, 74, 66, 69, 55,  8, 59, 60, 63, 71,  9,\n",
      "         0, 31, 56,  1, 74, 52, 70,  1, 73, 56, 69, 76,  1, 64, 72, 54, 59,  1,\n",
      "        52, 55, 64, 60, 69, 56, 55,  1, 60, 65, 55, 56, 56, 55,  9,  1,  1, 81,\n",
      "        31, 56,  1, 60, 70,  1, 52, 70,  1, 53, 56, 52, 72, 71, 60, 57, 72, 63,\n",
      "         1, 52, 70,  1, 52,  1, 74, 56, 52, 71, 59, 56, 69, 54, 66, 54, 62,  7,\n",
      "        82,  1, 69, 56, 64, 52, 69, 62, 56, 55,  1, 66, 65, 56,  1, 66, 57,  1,\n",
      "        71, 59, 56,  1, 43, 66, 74, 65,  1, 26, 66, 72, 65, 54, 60, 63, 63, 66,\n",
      "        69, 70,  1, 74, 59, 66,  1, 74, 60, 70, 59, 56, 55,  1, 71, 66,  1, 58,\n",
      "        52, 60, 65,  1, 52,  1, 69, 56, 67, 72, 71, 52, 71, 60, 66, 65,  1, 57,\n",
      "        66, 69,  1, 59, 52, 73, 60, 65, 58,  1, 52, 69, 71, 60, 70, 71, 60, 54,\n",
      "         1, 71, 52, 70, 71, 56, 70, 22,  1, 81, 66, 65, 63, 76,  1, 65, 66, 71,\n",
      "         1, 68, 72, 60, 71, 56,  1, 70, 66,  1, 72, 70, 56, 57, 72, 63,  7, 82,\n",
      "         1, 59, 56,  1, 52, 55, 55, 56, 55,  7,  1, 57, 56, 52, 69, 60, 65, 58,\n",
      "         1, 63, 56, 70, 71,  1, 67, 56, 66, 67, 63, 56,  1, 70, 59, 66, 72, 63,\n",
      "        55,  1, 71, 59, 60, 65, 62,  1, 59, 60, 64,  1, 72, 65, 67, 69, 52, 54,\n",
      "        71, 60, 54, 52, 63,  7,  1, 74, 59, 60, 54, 59,  1, 59, 56,  1, 69, 56,\n",
      "        52, 63, 63, 76,  1, 74, 52, 70,  1, 65, 66, 71,  9,  0, 81, 46, 59, 76,\n",
      "         1, 54, 52, 65, 80, 71,  1, 76, 66, 72,  1, 53, 56,  1, 63, 60, 62, 56,\n",
      "         1, 71, 59, 56,  1, 31, 52, 67, 67, 76,  1, 39, 69, 60, 65, 54, 56, 23,\n",
      "        82,  1, 52, 70, 62, 56, 55,  1, 52,  1, 70, 56, 65, 70, 60, 53, 63, 56,\n",
      "         1, 64, 66, 71, 59, 56, 69,  1, 66, 57,  1, 59, 56, 69,  1, 63, 60, 71,\n",
      "        71, 63, 56,  1, 53, 66, 76,  1, 74, 59, 66,  1, 74, 52, 70,  1, 54, 69,\n",
      "        76, 60, 65, 58,  1, 57, 66, 69,  1, 71, 59, 56,  1, 64, 66, 66, 65,  9,\n",
      "         1,  1, 81, 43, 59, 56,  1, 31, 52, 67, 67, 76,  1, 39, 69, 60, 65, 54,\n",
      "        56,  1, 65, 56, 73, 56, 69,  1, 55, 69, 56, 52, 64, 70,  1, 66, 57,  1,\n",
      "        54, 69, 76, 60, 65, 58,  1, 57, 66, 69,  1, 52, 65, 76, 71, 59, 60, 65,\n",
      "        58,  9, 82,  0, 81, 32,  1, 52, 64,  1, 58, 63, 52, 55,  1, 71, 59, 56,\n",
      "        69, 56,  1, 60, 70,  1, 70, 66, 64, 56,  1, 66, 65, 56,  1, 60, 65,  1,\n",
      "        71, 59, 56,  1, 74, 66, 69, 63, 55,  1, 74, 59, 66,  1, 60, 70,  1, 68,\n",
      "        72, 60, 71, 56,  1, 59, 52, 67, 67, 76,  7, 82,  1, 64, 72, 71, 71, 56,\n",
      "        69, 56, 55,  1, 52,  1, 55, 60, 70, 52, 67, 67, 66, 60, 65, 71, 56, 55,\n",
      "         1, 64, 52, 65,  1, 52, 70,  1, 59, 56,  1, 58, 52, 77, 56, 55,  1, 52,\n",
      "        71,  1, 71, 59, 56,  1, 74, 66, 65, 55, 56, 69, 57, 72, 63,  1, 70, 71,\n",
      "        52, 71, 72, 56,  9,  0, 81, 31, 56,  1, 63, 66, 66, 62, 70,  1, 61, 72,\n",
      "        70, 71,  1, 63, 60, 62, 56,  1, 52, 65,  1, 52, 65, 58, 56, 63,  7, 82,\n",
      "         1, 70, 52, 60, 55,  1, 71, 59, 56,  1, 26, 59, 52, 69, 60, 71, 76,  1,\n",
      "        26, 59, 60, 63, 55, 69, 56, 65,  1, 52, 70,  1, 71, 59, 56, 76,  1, 54,\n",
      "        52, 64, 56,  1, 66, 72, 71,  1, 66, 57,  1, 71, 59, 56,  1, 54, 52, 71,\n",
      "        59, 56, 55, 69, 52, 63,  1, 60, 65,  1, 71, 59, 56, 60, 69,  1, 53, 69,\n",
      "        60, 58, 59, 71,  1, 70, 54, 52, 69, 63, 56, 71,  1, 54, 63, 66, 52, 62,\n",
      "        70,  1, 52, 65, 55,  1, 71, 59, 56, 60, 69,  1, 54, 63, 56, 52, 65,  1,\n",
      "        74, 59, 60, 71, 56,  1, 67, 60, 65, 52, 57, 66, 69, 56, 70,  9,  0, 81,\n",
      "        31, 66, 74,  1, 55, 66,  1, 76, 66, 72,  1, 62, 65, 66, 74, 23, 82,  1,\n",
      "        70, 52, 60, 55,  1, 71, 59, 56,  1, 36])\n"
     ]
    }
   ],
   "source": [
    "# let's now encode the entire text dataset and store it into a torch.Tensor\n",
    "import torch # we use PyTorch: https://pytorch.org\n",
    "data = torch.tensor(encode(text), dtype=torch.long)\n",
    "print(data.shape, data.dtype)\n",
    "print(data[:1000]) # the 1000 characters we looked at earier will to the GPT look like this"
   ]
  },
  {
   "cell_type": "code",
   "execution_count": 97,
   "metadata": {},
   "outputs": [],
   "source": [
    "# Let's now split up the data into train and validation sets\n",
    "n = int(0.9*len(data)) # first 90% will be train, rest val\n",
    "train_data = data[:n]\n",
    "val_data = data[n:]"
   ]
  },
  {
   "cell_type": "code",
   "execution_count": 98,
   "metadata": {},
   "outputs": [
    {
     "data": {
      "text/plain": [
       "tensor([43, 59, 56,  1, 31, 52, 67, 67, 76,  1, 39, 69, 60, 65, 54, 56,  9,  0,\n",
       "        31, 32, 30, 31,  1, 52, 53, 66, 73, 56,  1, 71, 59, 56,  1, 54, 60, 71,\n",
       "        76,  7,  1, 66, 65,  1, 52,  1, 71, 52, 63, 63,  1, 54, 66, 63, 72, 64,\n",
       "        65,  7,  1, 70, 71, 66, 66, 55,  1, 71, 59])"
      ]
     },
     "execution_count": 98,
     "metadata": {},
     "output_type": "execute_result"
    }
   ],
   "source": [
    "\n",
    "train_data[:block_size+1]"
   ]
  },
  {
   "cell_type": "code",
   "execution_count": 99,
   "metadata": {},
   "outputs": [],
   "source": [
    "\n",
    "# data loading\n",
    "def get_batch(split):\n",
    "    # generate a small batch of data of inputs x and targets y\n",
    "    data = train_data if split == 'train' else val_data\n",
    "    ix = torch.randint(len(data) - block_size, (batch_size,))\n",
    "    x = torch.stack([data[i:i+block_size] for i in ix])\n",
    "    y = torch.stack([data[i+1:i+block_size+1] for i in ix])\n",
    "    x, y = x.to(device), y.to(device)\n",
    "    return x, y"
   ]
  },
  {
   "cell_type": "code",
   "execution_count": 100,
   "metadata": {},
   "outputs": [
    {
     "name": "stdout",
     "output_type": "stream",
     "text": [
      "4.793427 M parameters\n"
     ]
    },
    {
     "name": "stdout",
     "output_type": "stream",
     "text": [
      "step 0: train loss 4.6596, val loss 4.6598\n",
      "step 100: train loss 2.2824, val loss 2.2891\n",
      "step 200: train loss 2.0022, val loss 2.0275\n",
      "step 300: train loss 1.8209, val loss 1.8678\n",
      "step 400: train loss 1.7011, val loss 1.7538\n",
      "step 500: train loss 1.6307, val loss 1.6987\n",
      "step 600: train loss 1.5641, val loss 1.6385\n",
      "step 700: train loss 1.5081, val loss 1.5957\n",
      "step 800: train loss 1.4831, val loss 1.5761\n",
      "step 900: train loss 1.4527, val loss 1.5504\n",
      "step 1000: train loss 1.4172, val loss 1.5157\n",
      "step 1100: train loss 1.3972, val loss 1.5070\n",
      "step 1200: train loss 1.3748, val loss 1.4852\n",
      "step 1300: train loss 1.3483, val loss 1.4748\n",
      "step 1400: train loss 1.3368, val loss 1.4621\n",
      "step 1500: train loss 1.3245, val loss 1.4522\n",
      "step 1600: train loss 1.3035, val loss 1.4435\n",
      "step 1700: train loss 1.2956, val loss 1.4305\n",
      "step 1800: train loss 1.2825, val loss 1.4310\n",
      "step 1900: train loss 1.2764, val loss 1.4254\n",
      "step 2000: train loss 1.2636, val loss 1.4109\n",
      "step 2100: train loss 1.2589, val loss 1.4196\n",
      "step 2200: train loss 1.2419, val loss 1.4139\n",
      "step 2300: train loss 1.2364, val loss 1.4082\n",
      "step 2400: train loss 1.2288, val loss 1.3912\n",
      "step 2500: train loss 1.2198, val loss 1.4006\n",
      "step 2600: train loss 1.2105, val loss 1.4030\n",
      "step 2700: train loss 1.2133, val loss 1.3959\n",
      "step 2800: train loss 1.1996, val loss 1.4015\n",
      "step 2900: train loss 1.1917, val loss 1.3726\n",
      "step 3000: train loss 1.1874, val loss 1.3908\n",
      "step 3100: train loss 1.1766, val loss 1.3962\n",
      "step 3200: train loss 1.1703, val loss 1.3807\n",
      "step 3300: train loss 1.1698, val loss 1.3829\n",
      "step 3400: train loss 1.1645, val loss 1.3899\n",
      "step 3500: train loss 1.1550, val loss 1.3774\n",
      "step 3600: train loss 1.1581, val loss 1.3910\n",
      "step 3700: train loss 1.1497, val loss 1.3821\n",
      "step 3800: train loss 1.1472, val loss 1.3781\n",
      "step 3900: train loss 1.1363, val loss 1.3668\n",
      "step 4000: train loss 1.1259, val loss 1.3704\n",
      "step 4100: train loss 1.1326, val loss 1.3808\n",
      "step 4200: train loss 1.1238, val loss 1.3758\n",
      "step 4300: train loss 1.1135, val loss 1.3680\n",
      "step 4400: train loss 1.1123, val loss 1.3749\n",
      "step 4500: train loss 1.1113, val loss 1.3823\n",
      "step 4600: train loss 1.0998, val loss 1.3809\n",
      "step 4700: train loss 1.0987, val loss 1.3869\n",
      "step 4800: train loss 1.0950, val loss 1.3864\n",
      "step 4900: train loss 1.0907, val loss 1.3785\n",
      "step 4999: train loss 1.0822, val loss 1.3747\n"
     ]
    }
   ],
   "source": [
    "\n",
    "@torch.no_grad()\n",
    "def estimate_loss():\n",
    "    out = {}\n",
    "    model.eval()\n",
    "    for split in ['train', 'val']:\n",
    "        losses = torch.zeros(eval_iters)\n",
    "        for k in range(eval_iters):\n",
    "            X, Y = get_batch(split)\n",
    "            logits, loss = model(X, Y)\n",
    "            losses[k] = loss.item()\n",
    "        out[split] = losses.mean()\n",
    "    model.train()\n",
    "    return out\n",
    "\n",
    "class Head(nn.Module):\n",
    "    \"\"\" one head of self-attention \"\"\"\n",
    "\n",
    "    def __init__(self, head_size):\n",
    "        super().__init__()\n",
    "        self.key = nn.Linear(n_embd, head_size, bias=False)\n",
    "        self.query = nn.Linear(n_embd, head_size, bias=False)\n",
    "        self.value = nn.Linear(n_embd, head_size, bias=False)\n",
    "        self.register_buffer('tril', torch.tril(torch.ones(block_size, block_size)))\n",
    "\n",
    "        self.dropout = nn.Dropout(dropout)\n",
    "\n",
    "    def forward(self, x):\n",
    "        B,T,C = x.shape\n",
    "        k = self.key(x)   # (B,T,C)\n",
    "        q = self.query(x) # (B,T,C)\n",
    "        # compute attention scores (\"affinities\")\n",
    "        wei = q @ k.transpose(-2,-1) * C**-0.5 # (B, T, C) @ (B, C, T) -> (B, T, T)\n",
    "        wei = wei.masked_fill(self.tril[:T, :T] == 0, float('-inf')) # (B, T, T)\n",
    "        wei = F.softmax(wei, dim=-1) # (B, T, T)\n",
    "        wei = self.dropout(wei)\n",
    "        # perform the weighted aggregation of the values\n",
    "        v = self.value(x) # (B,T,C)\n",
    "        out = wei @ v # (B, T, T) @ (B, T, C) -> (B, T, C)\n",
    "        return out\n",
    "\n",
    "class MultiHeadAttention(nn.Module):\n",
    "    \"\"\" multiple heads of self-attention in parallel \"\"\"\n",
    "\n",
    "    def __init__(self, num_heads, head_size):\n",
    "        super().__init__()\n",
    "        self.heads = nn.ModuleList([Head(head_size) for _ in range(num_heads)])\n",
    "        self.proj = nn.Linear(n_embd, n_embd)\n",
    "        self.dropout = nn.Dropout(dropout)\n",
    "\n",
    "    def forward(self, x):\n",
    "        out = torch.cat([h(x) for h in self.heads], dim=-1)\n",
    "        out = self.dropout(self.proj(out))\n",
    "        return out\n",
    "\n",
    "class FeedFoward(nn.Module):\n",
    "    \"\"\" a simple linear layer followed by a non-linearity \"\"\"\n",
    "\n",
    "    def __init__(self, n_embd):\n",
    "        super().__init__()\n",
    "        self.net = nn.Sequential(\n",
    "            nn.Linear(n_embd, 4 * n_embd),\n",
    "            nn.ReLU(),\n",
    "            nn.Linear(4 * n_embd, n_embd),\n",
    "            nn.Dropout(dropout),\n",
    "        )\n",
    "\n",
    "    def forward(self, x):\n",
    "        return self.net(x)\n",
    "\n",
    "class Block(nn.Module):\n",
    "    \"\"\" Transformer block: communication followed by computation \"\"\"\n",
    "\n",
    "    def __init__(self, n_embd, n_head):\n",
    "        # n_embd: embedding dimension, n_head: the number of heads we'd like\n",
    "        super().__init__()\n",
    "        head_size = n_embd // n_head\n",
    "        self.sa = MultiHeadAttention(n_head, head_size)\n",
    "        self.ffwd = FeedFoward(n_embd)\n",
    "        self.ln1 = nn.LayerNorm(n_embd)\n",
    "        self.ln2 = nn.LayerNorm(n_embd)\n",
    "\n",
    "    def forward(self, x):\n",
    "        x = x + self.sa(self.ln1(x))\n",
    "        x = x + self.ffwd(self.ln2(x))\n",
    "        return x\n",
    "\n",
    "# super simple bigram model\n",
    "class BigramLanguageModel(nn.Module):\n",
    "\n",
    "    def __init__(self):\n",
    "        super().__init__()\n",
    "        # each token directly reads off the logits for the next token from a lookup table\n",
    "        self.token_embedding_table = nn.Embedding(vocab_size, n_embd)\n",
    "        self.position_embedding_table = nn.Embedding(block_size, n_embd)\n",
    "        self.blocks = nn.Sequential(*[Block(n_embd, n_head=n_head) for _ in range(n_layer)])\n",
    "        self.ln_f = nn.LayerNorm(n_embd) # final layer norm\n",
    "        self.lm_head = nn.Linear(n_embd, vocab_size)\n",
    "\n",
    "    def forward(self, idx, targets=None):\n",
    "        B, T = idx.shape\n",
    "\n",
    "        # idx and targets are both (B,T) tensor of integers\n",
    "        tok_emb = self.token_embedding_table(idx) # (B,T,C)\n",
    "        pos_emb = self.position_embedding_table(torch.arange(T, device=device)) # (T,C)\n",
    "        x = tok_emb + pos_emb # (B,T,C)\n",
    "        x = self.blocks(x) # (B,T,C)\n",
    "        x = self.ln_f(x) # (B,T,C)\n",
    "        logits = self.lm_head(x) # (B,T,vocab_size)\n",
    "\n",
    "        if targets is None:\n",
    "            loss = None\n",
    "        else:\n",
    "            B, T, C = logits.shape\n",
    "            logits = logits.view(B*T, C)\n",
    "            targets = targets.view(B*T)\n",
    "            loss = F.cross_entropy(logits, targets)\n",
    "\n",
    "        return logits, loss\n",
    "\n",
    "    def generate(self, idx, max_new_tokens):\n",
    "        # idx is (B, T) array of indices in the current context\n",
    "        for _ in range(max_new_tokens):\n",
    "            # crop idx to the last block_size tokens\n",
    "            idx_cond = idx[:, -block_size:]\n",
    "            # get the predictions\n",
    "            logits, loss = self(idx_cond)\n",
    "            # focus only on the last time step\n",
    "            logits = logits[:, -1, :] # becomes (B, C)\n",
    "            # apply softmax to get probabilities\n",
    "            probs = F.softmax(logits, dim=-1) # (B, C)\n",
    "            # sample from the distribution\n",
    "            idx_next = torch.multinomial(probs, num_samples=1) # (B, 1)\n",
    "            # append sampled index to the running sequence\n",
    "            idx = torch.cat((idx, idx_next), dim=1) # (B, T+1)\n",
    "        return idx\n",
    "\n",
    "model = BigramLanguageModel()\n",
    "m = model.to(device)\n",
    "# print the number of parameters in the model\n",
    "print(sum(p.numel() for p in m.parameters())/1e6, 'M parameters')\n",
    "\n",
    "# create a PyTorch optimizer\n",
    "optimizer = torch.optim.AdamW(model.parameters(), lr=learning_rate)\n",
    "\n",
    "for iter in range(max_iters):\n",
    "\n",
    "    # every once in a while evaluate the loss on train and val sets\n",
    "    if iter % eval_interval == 0 or iter == max_iters - 1:\n",
    "        losses = estimate_loss()\n",
    "        print(f\"step {iter}: train loss {losses['train']:.4f}, val loss {losses['val']:.4f}\")\n",
    "\n",
    "    # sample a batch of data\n",
    "    xb, yb = get_batch('train')\n",
    "\n",
    "    # evaluate the loss\n",
    "    logits, loss = model(xb, yb)\n",
    "    optimizer.zero_grad(set_to_none=True)\n",
    "    loss.backward()\n",
    "    optimizer.step()\n",
    "\n"
   ]
  },
  {
   "cell_type": "code",
   "execution_count": 105,
   "metadata": {},
   "outputs": [
    {
     "name": "stdout",
     "output_type": "stream",
     "text": [
      "start_tokens_ids =  [31, 32, 30, 31, 1, 52, 53, 66, 73, 56, 1, 71, 59, 56, 1, 54, 60, 71, 76, 7, 1, 66, 65, 1, 52, 1, 71, 52, 63, 63, 1, 54, 66, 63, 72, 64, 65, 7, 1, 70, 71, 66, 66, 55, 1, 71, 59, 56, 1, 70, 71, 52, 71, 72, 56, 1, 66, 57, 1, 71, 59, 56, 1, 31, 52, 67, 67, 76, 1, 39, 69, 60, 65, 54, 56, 9]\n",
      "HIGH above the city, on a tall column, stood the statue of the Happy Prince.  One has nothing at at once we shall come to what her most before the King saves, to live on its head head at the Princess, the Vizite prepared with a bundle, and he soon found depting himself, he swam Ali:\n",
      "“Here is that it is it,”\n",
      " said the old grapititude. “And there fly quite leagulorrow; but the handnest must what they were were considered, but the mind now rest her the Sheep said. “You have a fewolves descense!” said the handles. “Nice were from,” said he, “and It is too.  Here is as evil as let were forced to make as distrey they, at a beggar: it was even that procularly was that the one thickest was looking Beauty jumped about its palace. They left their two rose pleased quickly among something. Then the old knapsacks appeared the conversation buttons in an old wough and them all to-nice on a cat, buncled; her pretty shadows reached upon the seed, and not trunhed to  Hans, many accite stick! Here is a man, send for!” skin, Old Try office, that was already to mere that she was happened to say, and to approach for anything cauldron had opinions to go into the warm to the cock, it would be a good great lakes of haring Kjoge.\n",
      "It was a good carding-one, season; but he was his musicial, she said to the beginning:\n",
      "“Getting me, and he is recollect; when they rain speaked every to also much to le.\n",
      "There was one felt after she was more like fating that they began to talk off thin, and newards was entrance nectrally to pass the Happy. Then a little which were everywh. “Fa! Your PaSe, about once,” said he little Hans. “If thet do it was then this this in a chain, siled to expect, the good of answer, and old was struck with a real bash perpetal.\n",
      "“Walk, ah!” said she, she was not so well very beauty, but she was known two sisters, and discons, but in winterily persons brought there. Nevil, anything perceived just to come to feverals. There he thought the golden guards of Court, and there was in the she palace delight. The Princess could but that great sad the angel of its\n"
     ]
    }
   ],
   "source": [
    "#1.387\n",
    "# generate from the model\n",
    "\n",
    "\n",
    "start_tokens_ids = encode(\"HIGH above the city, on a tall column, stood the statue of the Happy Prince.\") \n",
    "print (\"start_tokens_ids = \",start_tokens_ids)\n",
    "\n",
    "print(decode(m.generate(start_tokens_ids, max_new_tokens=2000)[0].tolist()))"
   ]
  },
  {
   "cell_type": "code",
   "execution_count": 115,
   "metadata": {},
   "outputs": [],
   "source": [
    "import torch.onnx\n",
    "\n",
    "# Supposons que 'model' est votre modèle PyTorch et 'dummy_input' est un exemple d'entrée\n",
    "dummy_input = torch.zeros(1, block_size, dtype=torch.long).to(device)  # block_size doit correspondre à votre modèle\n",
    "\n",
    "torch.onnx.export(model, dummy_input, \"model.onnx\", opset_version=11, input_names=['input'], output_names=['output'], dynamic_axes={'input': {0: 'batch_size'}, 'output': {0: 'batch_size'}})\n"
   ]
  },
  {
   "cell_type": "code",
   "execution_count": 110,
   "metadata": {},
   "outputs": [
    {
     "name": "stdout",
     "output_type": "stream",
     "text": [
      "dummy_input =  tensor([[0, 0, 0, 0, 0, 0, 0, 0, 0, 0, 0, 0, 0, 0, 0, 0, 0, 0, 0, 0, 0, 0, 0, 0,\n",
      "         0, 0, 0, 0, 0, 0, 0, 0, 0, 0, 0, 0, 0, 0, 0, 0, 0, 0, 0, 0, 0, 0, 0, 0,\n",
      "         0, 0, 0, 0, 0, 0, 0, 0, 0, 0, 0, 0, 0, 0, 0, 0]], device='cuda:0')\n",
      "tensor([[0]], device='cuda:0')\n"
     ]
    }
   ],
   "source": [
    "print(\"dummy_input = \",dummy_input)\n",
    "context2 = torch.zeros((1, 1), dtype=torch.long, device=device)\n",
    "print(context2)"
   ]
  },
  {
   "cell_type": "code",
   "execution_count": 116,
   "metadata": {},
   "outputs": [
    {
     "name": "stdout",
     "output_type": "stream",
     "text": [
      "(tensor([[[-4.9098,  3.7177, -0.0373,  ..., -1.8795, -3.1893, -2.1968],\n",
      "         [-0.6648,  4.8009, -1.5613,  ..., -4.4058,  4.2152, -2.9461],\n",
      "         [ 0.8904,  4.9534, -3.2890,  ..., -3.9753,  5.6588, -3.7643],\n",
      "         ...,\n",
      "         [ 2.5446,  4.7969, -3.2776,  ..., -4.3524,  6.6065, -4.8146],\n",
      "         [ 2.7729,  4.7803, -3.3443,  ..., -4.2029,  6.9469, -4.5609],\n",
      "         [ 2.7572,  4.8237, -3.3616,  ..., -4.2111,  6.8846, -4.5310]]],\n",
      "       device='cuda:0'), None)\n"
     ]
    }
   ],
   "source": [
    "# Créer un exemple d'entrée\n",
    "# Supposons que vous utilisiez des entiers pour représenter des tokens\n",
    "sequence_length = 64  # Longueur de la séquence attendue par le modèle\n",
    "example_sequence = [64]  # Exemple de séquence d'entrée\n",
    "padding_length = sequence_length - len(example_sequence)\n",
    "\n",
    "# Appliquer le padding\n",
    "\n",
    "input_sequence = example_sequence + [0] * padding_length\n",
    "\n",
    "# Convertir en tenseur PyTorch\n",
    "input_tensor = torch.tensor([input_sequence], dtype=torch.long).to(device)\n",
    "\n",
    "# Passer l'entrée dans le modèle\n",
    "with torch.no_grad():\n",
    "    model.eval()\n",
    "    output = model(input_tensor)\n",
    "\n",
    "# Afficher la sortie\n",
    "print(output)"
   ]
  }
 ],
 "metadata": {
  "kernelspec": {
   "display_name": "Python 3",
   "language": "python",
   "name": "python3"
  },
  "language_info": {
   "codemirror_mode": {
    "name": "ipython",
    "version": 3
   },
   "file_extension": ".py",
   "mimetype": "text/x-python",
   "name": "python",
   "nbconvert_exporter": "python",
   "pygments_lexer": "ipython3",
   "version": "3.10.12"
  }
 },
 "nbformat": 4,
 "nbformat_minor": 2
}
