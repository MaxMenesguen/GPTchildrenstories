{
 "cells": [
  {
   "cell_type": "code",
   "execution_count": 10,
   "metadata": {},
   "outputs": [],
   "source": [
    "from __future__ import annotations\n",
    "import builtins\n",
    "import torch"
   ]
  },
  {
   "cell_type": "code",
   "execution_count": 7,
   "metadata": {},
   "outputs": [
    {
     "data": {
      "text/plain": [
       "['emma',\n",
       " 'olivia',\n",
       " 'ava',\n",
       " 'isabella',\n",
       " 'sophia',\n",
       " 'charlotte',\n",
       " 'mia',\n",
       " 'amelia',\n",
       " 'harper',\n",
       " 'evelyn']"
      ]
     },
     "execution_count": 7,
     "metadata": {},
     "output_type": "execute_result"
    }
   ],
   "source": [
    "lines = open (\"names.txt\", \"r\").readlines()\n",
    "names = list (map(lambda name: name.strip(), lines))\n",
    "\n",
    "names[:10]"
   ]
  },
  {
   "cell_type": "code",
   "execution_count": 9,
   "metadata": {},
   "outputs": [],
   "source": [
    "class Vocab : \n",
    "    def __init__(self, names : list[str]) -> None:\n",
    "\n",
    "        self.names = names\n",
    "        self.chars = sorted (list(set(\"\".join(self.names))))\n",
    "        self.stoi = {char: idx for idx,char in enumerate (self.chars)}\n",
    "        self.itos = {idx: char for char,idx in enumerate (self.stoi.items())}\n",
    "\n",
    "    def __len__(self):\n",
    "        return self.len(self.stoi)\n",
    "    \n",
    "    def __getitem__ (self, idx_or_char):\n",
    "        match type (idx_or_char):\n",
    "            case builtins.str : return (self.stoi[idx_or_char])\n",
    "            case builtins.int : return (self.itos[idx_or_char])\n",
    "\n",
    "vocab = Vocab(names)\n",
    "\n",
    "\n"
   ]
  },
  {
   "cell_type": "code",
   "execution_count": 12,
   "metadata": {},
   "outputs": [
    {
     "name": "stdout",
     "output_type": "stream",
     "text": [
      "164080\n"
     ]
    }
   ],
   "source": [
    "class BigramDataset:\n",
    "    def __init__(self,names) -> None:\n",
    "        self.tuples = []\n",
    "        for name in names:\n",
    "            chars = list(name)\n",
    "            self.tuples += list(zip(chars,chars[1:]))\n",
    "\n",
    "    \n",
    "    def __len__(self):\n",
    "        return len(self.tuples)    \n",
    "    \n",
    "    \n",
    "    def __getitem__ (self, idx):\n",
    "        return self.tuples[idx]\n",
    "        \n",
    "\n",
    "\n",
    "dataset = BigramDataset(names)\n",
    "print(len(dataset))\n",
    "\n",
    "\n"
   ]
  },
  {
   "cell_type": "code",
   "execution_count": null,
   "metadata": {},
   "outputs": [],
   "source": [
    "class Bigram:\n",
    "    def __init__(self,vocab) -> None:\n",
    "        self.vocab = vocab\n",
    "        "
   ]
  }
 ],
 "metadata": {
  "kernelspec": {
   "display_name": "Python 3",
   "language": "python",
   "name": "python3"
  },
  "language_info": {
   "codemirror_mode": {
    "name": "ipython",
    "version": 3
   },
   "file_extension": ".py",
   "mimetype": "text/x-python",
   "name": "python",
   "nbconvert_exporter": "python",
   "pygments_lexer": "ipython3",
   "version": "3.10.12"
  }
 },
 "nbformat": 4,
 "nbformat_minor": 2
}
